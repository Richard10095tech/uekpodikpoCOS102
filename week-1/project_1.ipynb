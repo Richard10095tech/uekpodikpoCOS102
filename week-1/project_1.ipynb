{
 "cells": [
  {
   "cell_type": "code",
   "execution_count": 13,
   "id": "e0a90e09-03b9-43fa-bef1-4e18d894a3fa",
   "metadata": {},
   "outputs": [
    {
     "name": "stdin",
     "output_type": "stream",
     "text": [
      "Enter the principal amount (P):  9\n",
      "Enter the rate of interest (R):  8\n",
      "Enter the time period (T) in years:  7\n"
     ]
    },
    {
     "name": "stdout",
     "output_type": "stream",
     "text": [
      "The Simple Interest is: 14.040000000000001\n"
     ]
    },
    {
     "name": "stdin",
     "output_type": "stream",
     "text": [
      "Enter the principal amount (P):  6\n",
      "Enter the rate of interest (R):  5\n",
      "Enter the compounding frequency yearly (n):  4\n",
      "Enter the time period (t) in years:  3\n"
     ]
    },
    {
     "name": "stdout",
     "output_type": "stream",
     "text": [
      "The Compound Interest is: 101004.6731761694\n"
     ]
    },
    {
     "name": "stdin",
     "output_type": "stream",
     "text": [
      "Enter the payment amount (PMT):  2\n",
      "Enter the rate of interest (R):  1\n",
      "Enter the compounding frequency yearly (n):  9\n",
      "Enter the time period (t) in years:  8\n"
     ]
    },
    {
     "name": "stdout",
     "output_type": "stream",
     "text": [
      "The Annuity Plan is: 0.0\n"
     ]
    }
   ],
   "source": [
    "# Simple Interest\n",
    "def calculate_SimpI(P, R, T):\n",
    "    return P * (1 + (R / 100) * T)\n",
    "\n",
    "def SimpI_calculator():\n",
    "    try:\n",
    "        P = float(input(\"Enter the principal amount (P): \"))\n",
    "        R = float(input(\"Enter the rate of interest (R): \"))\n",
    "        T = float(input(\"Enter the time period (T) in years: \"))\n",
    "    \n",
    "        SimpI = calculate_SimpI(P, R, T)\n",
    "        print(f\"The Simple Interest is: {SimpI}\")\n",
    "    except ValueError:\n",
    "        print(\"Please enter a valid number.\")\n",
    "\n",
    "# Call the Simple Interest Calculator\n",
    "SimpI_calculator()\n",
    "\n",
    "# compound Interest\n",
    "def calculate_CompI(P, R, n, t):\n",
    "    return P * ((1 + (R / n))**(n*t))\n",
    "\n",
    "def CompI_calculator():\n",
    "    try:\n",
    "        P = float(input(\"Enter the principal amount (P): \"))\n",
    "        R = float(input(\"Enter the rate of interest (R): \"))\n",
    "        n = float(input(\"Enter the compounding frequency yearly (n): \"))\n",
    "        t = float(input(\"Enter the time period (t) in years: \"))\n",
    "    \n",
    "        CompI = calculate_CompI(P, R, n, t)\n",
    "        print(f\"The Compound Interest is: {CompI}\")\n",
    "    except ValueError:\n",
    "        print(\"Please enter a valid number.\")\n",
    "\n",
    "# Call the Compound Interest Calculator\n",
    "CompI_calculator()\n",
    "\n",
    "# Annuity Plan\n",
    "def calculate_Ann_p(PMT, R, n, t):\n",
    "    return PMT * ((((1 + (R / n)**(n*t)) - 1) / (R / n)))\n",
    "\n",
    "def Ann_p_calculator():\n",
    "    try:\n",
    "        PMT = float(input(\"Enter the payment amount (PMT): \"))\n",
    "        R = float(input(\"Enter the rate of interest (R): \"))\n",
    "        n = float(input(\"Enter the compounding frequency yearly (n): \"))\n",
    "        t = float(input(\"Enter the time period (t) in years: \"))\n",
    "    \n",
    "        Ann_p = calculate_Ann_p(PMT, R, n, t)\n",
    "        print(f\"The Annuity Plan is: {Ann_p}\")\n",
    "    except ValueError:\n",
    "        print(\"Please enter a valid number.\")\n",
    "\n",
    "# Call the Annuity Plan Calculator\n",
    "Ann_p_calculator()\n"
   ]
  },
  {
   "cell_type": "code",
   "execution_count": null,
   "id": "958d8f00-66d9-402b-8495-43f1e6de8906",
   "metadata": {},
   "outputs": [],
   "source": []
  },
  {
   "cell_type": "code",
   "execution_count": null,
   "id": "bee9f5a1-5cfb-490f-87a0-6dd30825c3a9",
   "metadata": {},
   "outputs": [],
   "source": []
  }
 ],
 "metadata": {
  "kernelspec": {
   "display_name": "Python [conda env:base] *",
   "language": "python",
   "name": "conda-base-py"
  },
  "language_info": {
   "codemirror_mode": {
    "name": "ipython",
    "version": 3
   },
   "file_extension": ".py",
   "mimetype": "text/x-python",
   "name": "python",
   "nbconvert_exporter": "python",
   "pygments_lexer": "ipython3",
   "version": "3.12.7"
  }
 },
 "nbformat": 4,
 "nbformat_minor": 5
}
