{
 "cells": [
  {
   "cell_type": "code",
   "execution_count": 21,
   "id": "4c7377e1-5661-4a1d-967a-6be0ab498b0b",
   "metadata": {},
   "outputs": [
    {
     "name": "stdout",
     "output_type": "stream",
     "text": [
      "Welcome to the COUPE DE ESCRIVA 2023: FOOTBALL PICKS \n",
      "\n",
      "Madiba:  ('Blue-Jays: ', 'Christopher Uweh', 'Cirok: ')\n",
      "Chubby Obiora-Okafo ('Blue-Jays: ', 'Christopher Uweh', 'Cirok: ')\n",
      "Blue-Jays:  ('Blue-Jays: ', 'Christopher Uweh', 'Cirok: ')\n",
      "Christopher Uweh ('Blue-Jays: ', 'Christopher Uweh', 'Cirok: ')\n",
      "Cirok:  ('Blue-Jays: ', 'Christopher Uweh', 'Cirok: ')\n",
      "Alexander ('Blue-Jays: ', 'Christopher Uweh', 'Cirok: ')\n",
      "TSG Walkers:  ('Blue-Jays: ', 'Christopher Uweh', 'Cirok: ')\n",
      "Ikechukwu ('Blue-Jays: ', 'Christopher Uweh', 'Cirok: ')\n",
      "\n",
      "\n",
      "Madiba:  ('Oladimeji Abaniwondea/Jeffery Awagu', 'Cirok: ', 'Timileyin Pearse/Izako Jeromy')\n",
      "Chubby Obiora-Okafo ('Oladimeji Abaniwondea/Jeffery Awagu', 'Cirok: ', 'Timileyin Pearse/Izako Jeromy')\n",
      "Blue-Jays:  ('Oladimeji Abaniwondea/Jeffery Awagu', 'Cirok: ', 'Timileyin Pearse/Izako Jeromy')\n",
      "Oladimeji Abaniwondea/Jeffery Awagu ('Oladimeji Abaniwondea/Jeffery Awagu', 'Cirok: ', 'Timileyin Pearse/Izako Jeromy')\n",
      "Cirok:  ('Oladimeji Abaniwondea/Jeffery Awagu', 'Cirok: ', 'Timileyin Pearse/Izako Jeromy')\n",
      "Timileyin Pearse/Izako Jeromy ('Oladimeji Abaniwondea/Jeffery Awagu', 'Cirok: ', 'Timileyin Pearse/Izako Jeromy')\n",
      "TSG Wlkers:  ('Oladimeji Abaniwondea/Jeffery Awagu', 'Cirok: ', 'Timileyin Pearse/Izako Jeromy')\n",
      "Ayomide Ojituku ('Oladimeji Abaniwondea/Jeffery Awagu', 'Cirok: ', 'Timileyin Pearse/Izako Jeromy')\n"
     ]
    }
   ],
   "source": [
    "# COUPE DE ESCRIVA 2023: FOOTBALL PICKS\n",
    "\n",
    "print(\"Welcome to the COUPE DE ESCRIVA 2023: FOOTBALL PICKS \\n\")\n",
    "\n",
    "captain = ('Madiba: ', 'Chubby Obiora-Okafo', 'Blue-Jays: ', 'Christopher Uweh', \n",
    "           'Cirok: ', 'Alexander', 'TSG Walkers: ', 'Ikechukwu')\n",
    "\n",
    "goalkeepers = ('Madiba: ', 'Chubby Obiora-Okafo', 'Blue-Jays: ', \n",
    "               'Oladimeji Abaniwondea/Jeffery Awagu', 'Cirok: ', \n",
    "               'Timileyin Pearse/Izako Jeromy',\n",
    "               'TSG Wlkers: ', 'Ayomide Ojituku')\n",
    "\n",
    "for pick in captain:\n",
    "    print(pick, captain[2:5])\n",
    "\n",
    "print(\"\\n\")\n",
    "\n",
    "for pick in goalkeepers:\n",
    "    print(pick, goalkeepers[3:6])"
   ]
  },
  {
   "cell_type": "code",
   "execution_count": null,
   "id": "acd738ce-bc3f-4203-b947-1a9f2d27155d",
   "metadata": {},
   "outputs": [],
   "source": []
  }
 ],
 "metadata": {
  "kernelspec": {
   "display_name": "Python [conda env:base] *",
   "language": "python",
   "name": "conda-base-py"
  },
  "language_info": {
   "codemirror_mode": {
    "name": "ipython",
    "version": 3
   },
   "file_extension": ".py",
   "mimetype": "text/x-python",
   "name": "python",
   "nbconvert_exporter": "python",
   "pygments_lexer": "ipython3",
   "version": "3.12.7"
  }
 },
 "nbformat": 4,
 "nbformat_minor": 5
}
