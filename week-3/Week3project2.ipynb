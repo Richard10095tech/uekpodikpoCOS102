{
 "cells": [
  {
   "cell_type": "code",
   "execution_count": 16,
   "id": "c6bcd3ec-e6f4-4282-90e9-0e76db5cc32d",
   "metadata": {},
   "outputs": [
    {
     "name": "stdin",
     "output_type": "stream",
     "text": [
      "Enter your name:  RICHARD\n",
      "Enter your age:  20\n",
      "How long have you been working?:  30\n"
     ]
    },
    {
     "name": "stdout",
     "output_type": "stream",
     "text": [
      "You are not up to those conditions above therefore, your ATR will be 550000\n"
     ]
    }
   ],
   "source": [
    "# A Python Program to determine the ANNUAL TAX REVENUE(ATR) for about 2500 staffs with different experiences and ages\n",
    "\n",
    "Staff_name = str(input(\"Enter your name: \"))\n",
    "Age = int(input(\"Enter your age: \"))\n",
    "Years_of_Experience = int(input(\"How long have you been working?: \"))\n",
    "\n",
    "# ANNUAL TAX REVENUE is ATR\n",
    "\n",
    "if Years_of_Experience > 25 and Age >= 55:\n",
    "    print(\"Your ATR is 5600000\")\n",
    "elif Years_of_Experience > 20 and Age >= 45:\n",
    "    print(\"Your ATR is 4480000\")\n",
    "elif Years_of_Experience > 10 and Age >= 35:\n",
    "    print(\"Your ATR is 1500000\")\n",
    "else:\n",
    "    print(\"You are not up to those conditions above therefore, your ATR will be 550000\")\n"
   ]
  },
  {
   "cell_type": "code",
   "execution_count": null,
   "id": "61231d3d-69a6-4f0c-a2b6-67918a65d4d1",
   "metadata": {},
   "outputs": [],
   "source": []
  },
  {
   "cell_type": "code",
   "execution_count": null,
   "id": "88dffdc4-77ba-4683-9682-1cedca7ea7ce",
   "metadata": {},
   "outputs": [],
   "source": []
  }
 ],
 "metadata": {
  "kernelspec": {
   "display_name": "Python [conda env:base] *",
   "language": "python",
   "name": "conda-base-py"
  },
  "language_info": {
   "codemirror_mode": {
    "name": "ipython",
    "version": 3
   },
   "file_extension": ".py",
   "mimetype": "text/x-python",
   "name": "python",
   "nbconvert_exporter": "python",
   "pygments_lexer": "ipython3",
   "version": "3.12.7"
  }
 },
 "nbformat": 4,
 "nbformat_minor": 5
}
