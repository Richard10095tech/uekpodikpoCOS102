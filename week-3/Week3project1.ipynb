{
 "cells": [
  {
   "cell_type": "code",
   "execution_count": 14,
   "id": "1634868f-e34b-48e0-9084-dc46bb45da68",
   "metadata": {},
   "outputs": [
    {
     "name": "stdout",
     "output_type": "stream",
     "text": [
      "      Name  Age  Height  Score\n",
      "0   Evelyn   17     5.5     80\n",
      "1   Jessia   16     6.0     85\n",
      "2    Somto   17     5.4     70\n",
      "3    Edith   18     5.9     60\n",
      "4     Liza   18     5.5     76\n",
      "5  Madonna   17     5.6     66\n",
      "6     Waje   20     6.1     87\n",
      "7     Tola   19     6.0     95\n",
      "8    Aisha   17     5.7     50\n",
      "9   Latifa   17     5.5     49\n",
      "      Name  Age  Height  Score\n",
      "0  Chinedu   19     5.7     74\n",
      "1     Liam   16     5.9     87\n",
      "2     Wale   18     5.8     75\n",
      "3   Gbenga   17     6.1     68\n",
      "4   Abiola   20     5.9     66\n",
      "5     Kola   19     5.5     78\n",
      "6    Kunle   16     6.1     87\n",
      "7   George   18     5.4     98\n",
      "8   Thomas   17     5.8     64\n",
      "9   Wesley   19     5.7     60\n",
      "       Name  Age  Height  Score\n",
      "0    Evelyn   17     5.5     80\n",
      "1    Jessia   16     6.0     85\n",
      "2     Somto   17     5.4     70\n",
      "3     Edith   18     5.9     60\n",
      "4      Liza   18     5.5     76\n",
      "5   Madonna   17     5.6     66\n",
      "6      Waje   20     6.1     87\n",
      "7      Tola   19     6.0     95\n",
      "8     Aisha   17     5.7     50\n",
      "9    Latifa   17     5.5     49\n",
      "10  Chinedu   19     5.7     74\n",
      "11     Liam   16     5.9     87\n",
      "12     Wale   18     5.8     75\n",
      "13   Gbenga   17     6.1     68\n",
      "14   Abiola   20     5.9     66\n",
      "15     Kola   19     5.5     78\n",
      "16    Kunle   16     6.1     87\n",
      "17   George   18     5.4     98\n",
      "18   Thomas   17     5.8     64\n",
      "19   Wesley   19     5.7     60\n"
     ]
    }
   ],
   "source": [
    "# A Python Program for a table for a class of 20 students\n",
    "\n",
    "import pandas as pd\n",
    "\n",
    "# Table for Girls only\n",
    "Students_Girls = [ ['Evelyn', 17, 5.5, 80], ['Jessia', 16, 6.0, 85], ['Somto', 17, 5.4, 70], ['Edith', 18, 5.9, 60],\n",
    "            ['Liza', 18, 5.5, 76], ['Madonna', 17, 5.6, 66], ['Waje', 20, 6.1, 87], ['Tola', 19, 6.0, 95],\n",
    "            ['Aisha', 17, 5.7, 50], ['Latifa', 17, 5.5, 49] ]\n",
    "# Table for Boys only\n",
    "Students_Boys = [ ['Chinedu', 19, 5.7, 74], ['Liam', 16, 5.9, 87], ['Wale', 18, 5.8, 75], ['Gbenga', 17, 6.1, 68], ['Abiola', 20, 5.9, 66], ['Kola', 19, 5.5, 78],\n",
    "                ['Kunle', 16, 6.1, 87], ['George', 18, 5.4, 98], ['Thomas', 17, 5.8, 64], ['Wesley', 19, 5.7, 60] ]\n",
    "\n",
    "# Table for both boys and girls\n",
    "Students = [ ['Evelyn', 17, 5.5, 80], ['Jessia', 16, 6.0, 85], ['Somto', 17, 5.4, 70], ['Edith', 18, 5.9, 60],\n",
    "            ['Liza', 18, 5.5, 76], ['Madonna', 17, 5.6, 66], ['Waje', 20, 6.1, 87], ['Tola', 19, 6.0, 95],\n",
    "            ['Aisha', 17, 5.7, 50], ['Latifa', 17, 5.5, 49], ['Chinedu', 19, 5.7, 74], ['Liam', 16, 5.9, 87],\n",
    "            ['Wale', 18, 5.8, 75], ['Gbenga', 17, 6.1, 68], ['Abiola', 20, 5.9, 66], ['Kola', 19, 5.5, 78],\n",
    "            ['Kunle', 16, 6.1, 87], ['George', 18, 5.4, 98], ['Thomas', 17, 5.8, 64], ['Wesley', 19, 5.7, 60] ]\n",
    "\n",
    "# DataFrame for girls is 'df1'\n",
    "df1 = pd.DataFrame(Students_Girls, columns=['Name', 'Age', 'Height', 'Score'])\n",
    "\n",
    "# Show the table\n",
    "print(df1)\n",
    "\n",
    "# DataFrame for boys is 'df2'\n",
    "df2 = pd.DataFrame(Students_Boys, columns=['Name', 'Age', 'Height', 'Score'])\n",
    "# show the table\n",
    "print(df2)\n",
    "\n",
    "# DataFrame for both boys and girls is 'df3'\n",
    "df3 = pd.DataFrame(Students, columns=['Name', 'Age', 'Height', 'Score'])\n",
    "# show the table\n",
    "print(df3)"
   ]
  },
  {
   "cell_type": "code",
   "execution_count": null,
   "id": "81a5071e-2d59-481a-bec6-0e4b719831a7",
   "metadata": {},
   "outputs": [],
   "source": []
  },
  {
   "cell_type": "code",
   "execution_count": null,
   "id": "b240957c-936a-47a2-8d84-21d96474d972",
   "metadata": {},
   "outputs": [],
   "source": []
  },
  {
   "cell_type": "code",
   "execution_count": null,
   "id": "843c0838-5f19-44a7-85ee-4dfd9e51c2ae",
   "metadata": {},
   "outputs": [],
   "source": []
  },
  {
   "cell_type": "code",
   "execution_count": null,
   "id": "21823b47-92f9-4559-8686-1caf8d44bcc0",
   "metadata": {},
   "outputs": [],
   "source": []
  },
  {
   "cell_type": "code",
   "execution_count": null,
   "id": "2f3f1c38-2e99-403e-82c1-d5c9e915c8bf",
   "metadata": {},
   "outputs": [],
   "source": []
  }
 ],
 "metadata": {
  "kernelspec": {
   "display_name": "Python [conda env:base] *",
   "language": "python",
   "name": "conda-base-py"
  },
  "language_info": {
   "codemirror_mode": {
    "name": "ipython",
    "version": 3
   },
   "file_extension": ".py",
   "mimetype": "text/x-python",
   "name": "python",
   "nbconvert_exporter": "python",
   "pygments_lexer": "ipython3",
   "version": "3.12.7"
  }
 },
 "nbformat": 4,
 "nbformat_minor": 5
}
