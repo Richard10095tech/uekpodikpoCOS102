{
 "cells": [
  {
   "cell_type": "code",
   "execution_count": 1,
   "id": "f538e924-2f65-4dd2-9597-abceb7aa8824",
   "metadata": {},
   "outputs": [
    {
     "name": "stdin",
     "output_type": "stream",
     "text": [
      "Enter mass in kilograms:  10\n"
     ]
    },
    {
     "name": "stdout",
     "output_type": "stream",
     "text": [
      "The energy equivalent to 10.0 kg of  mass is 8.987551787368177e+17 joules.\n"
     ]
    }
   ],
   "source": [
    "# Input from user \n",
    "m = float(input(\"Enter mass in kilograms: \"))\n",
    "\n",
    "# Constant value for the speed of light in m/s\n",
    "c = 299792458\n",
    "\n",
    "# Calculating energy using Einstein's equation\n",
    "energy = m * c ** 2\n",
    "\n",
    "# Displaying the result\n",
    "print(f\"The energy equivalent to {m} kg of  mass is {energy} joules.\")\n"
   ]
  },
  {
   "cell_type": "code",
   "execution_count": null,
   "id": "28bb5327-0358-4725-b03b-af1b8b023c5f",
   "metadata": {},
   "outputs": [],
   "source": []
  }
 ],
 "metadata": {
  "kernelspec": {
   "display_name": "Python [conda env:base] *",
   "language": "python",
   "name": "conda-base-py"
  },
  "language_info": {
   "codemirror_mode": {
    "name": "ipython",
    "version": 3
   },
   "file_extension": ".py",
   "mimetype": "text/x-python",
   "name": "python",
   "nbconvert_exporter": "python",
   "pygments_lexer": "ipython3",
   "version": "3.12.7"
  }
 },
 "nbformat": 4,
 "nbformat_minor": 5
}
