{
 "cells": [
  {
   "cell_type": "code",
   "execution_count": 19,
   "id": "eb48f0f2-b651-4844-be52-2834ca33e539",
   "metadata": {},
   "outputs": [
    {
     "name": "stdin",
     "output_type": "stream",
     "text": [
      "Choose any number from 1 to 3:  1\n"
     ]
    },
    {
     "ename": "NameError",
     "evalue": "name 'a' is not defined",
     "output_type": "error",
     "traceback": [
      "\u001b[1;31m---------------------------------------------------------------------------\u001b[0m",
      "\u001b[1;31mNameError\u001b[0m                                 Traceback (most recent call last)",
      "Cell \u001b[1;32mIn[19], line 53\u001b[0m\n\u001b[0;32m     50\u001b[0m choice \u001b[38;5;241m=\u001b[39m \u001b[38;5;28mint\u001b[39m(\u001b[38;5;28minput\u001b[39m(\u001b[38;5;124m\"\u001b[39m\u001b[38;5;124mChoose any number from 1 to 3: \u001b[39m\u001b[38;5;124m\"\u001b[39m))\n\u001b[0;32m     52\u001b[0m \u001b[38;5;28;01mif\u001b[39;00m choice \u001b[38;5;241m==\u001b[39m \u001b[38;5;241m1\u001b[39m:\n\u001b[1;32m---> 53\u001b[0m     roots \u001b[38;5;241m=\u001b[39m solve_quad( a, b, c)\n\u001b[0;32m     54\u001b[0m     \u001b[38;5;28mprint\u001b[39m(\u001b[38;5;124m\"\u001b[39m\u001b[38;5;124mThe Quadratic roots are:\u001b[39m\u001b[38;5;124m\"\u001b[39m, roots)\n\u001b[0;32m     55\u001b[0m \u001b[38;5;28;01melif\u001b[39;00m choice \u001b[38;5;241m==\u001b[39m \u001b[38;5;241m2\u001b[39m:\n",
      "\u001b[1;31mNameError\u001b[0m: name 'a' is not defined"
     ]
    }
   ],
   "source": [
    "# A  Python Program for solving quadratic, cubic, and quartic equations.\n",
    "import numpy as np\n",
    "\n",
    "def main():\n",
    "    print(\"Welcome to the Richard's equation solver!!\")\n",
    "    print(\"You are free to choose any equation you wish to solver!!\")\n",
    "    print(\"1. for Quadratic Equation (ax^2 + bx + c = 0)\")\n",
    "    print(\"2. for Cubic Equation (ax^3 + bx^2 + cx + d = 0)\")\n",
    "    print(\"3. for Quartic Equation (ax^4 + bx^3 + cx^2 + dx + e = 0)\")\n",
    "    \n",
    "\n",
    "# To solve for Quadratic Equation\n",
    "def solve_quad(a, b, c):\n",
    "     disc = b**2 - 4*a*c  # 'disc' is discriminant\n",
    "     if disc > 0:\n",
    "         root1 = (-b + np.sqrt(disc)) / (2*a)\n",
    "         root2 = (-b - np.sqrt(disc)) / (2*a)\n",
    "         return root1, root2\n",
    "     elif disc == 0:\n",
    "         root = -b / (2*a)\n",
    "         return root,\n",
    "         a = float(input(\"enter the coefficient a: \"))\n",
    "         b = float(input(\"enter the coefficient b: \"))\n",
    "         c = float(input(\"enter the coefficient c: \"))\n",
    "     else:\n",
    "         return \"invalid roots (not accepted here).\"\n",
    "\n",
    "# To solve the Cubic Equation\n",
    "def solve_cubic(a, b, c, d):\n",
    "    coeffs = [ a, b, c, d]       # 'coeff' is coeffiecients   \n",
    "    a = float(input(\"enter the coefficient a: \"))\n",
    "    b = float(input(\"enter the coefficient b: \"))\n",
    "    c = float(input(\"enter the coefficient c: \"))\n",
    "    d = float(input(\"enter the coefficient d: \"))\n",
    "    roots = np.roots(coeffs)\n",
    "    return roots\n",
    "\n",
    "# To solve the Quartic Equation\n",
    "\n",
    "def solve_quart(a, b, c, d, e):\n",
    "    coeffs = [ a, b, c, d, e]\n",
    "    a = float(input(\"enter the coefficient a: \"))\n",
    "    b = float(input(\"enter the coefficient b: \"))\n",
    "    c = float(input(\"enter the coefficient c: \"))\n",
    "    d = float(input(\"enter the coefficient d: \"))\n",
    "    e = float(input(\"enter the coefficient e: \"))\n",
    "    roots = np.roots(coeffs)\n",
    "    return roots\n",
    "\n",
    "choice = int(input(\"Choose any number from 1 to 3: \"))\n",
    "\n",
    "if choice == 1:\n",
    "    roots = solve_quad( a, b, c)\n",
    "    print(\"The Quadratic roots are:\", roots)\n",
    "elif choice == 2:\n",
    "    roots = solve_cubic( a, b, c, d)\n",
    "    print(\"The Cubic roots are:\", roots)\n",
    "elif choice == 3:\n",
    "    roots = solve_quart( a, b, c, d, e)\n",
    "    print(\"The Quartic roots are:\", roots)\n",
    "else:\n",
    "    print(\"invalid input. please try again later.\")\n",
    "\n",
    "if _name_ == \"_main_\":\n",
    "    main()\n"
   ]
  },
  {
   "cell_type": "code",
   "execution_count": null,
   "id": "5bfa00b2-2678-42d1-b45d-7fa15055021e",
   "metadata": {},
   "outputs": [],
   "source": []
  },
  {
   "cell_type": "code",
   "execution_count": null,
   "id": "4c08cf5b-c4cc-4983-bd68-f776fa199820",
   "metadata": {},
   "outputs": [],
   "source": []
  },
  {
   "cell_type": "code",
   "execution_count": null,
   "id": "2a01d86e-f32f-4197-879a-1bbe5d3b9ffa",
   "metadata": {},
   "outputs": [],
   "source": []
  }
 ],
 "metadata": {
  "kernelspec": {
   "display_name": "Python [conda env:base] *",
   "language": "python",
   "name": "conda-base-py"
  },
  "language_info": {
   "codemirror_mode": {
    "name": "ipython",
    "version": 3
   },
   "file_extension": ".py",
   "mimetype": "text/x-python",
   "name": "python",
   "nbconvert_exporter": "python",
   "pygments_lexer": "ipython3",
   "version": "3.12.7"
  }
 },
 "nbformat": 4,
 "nbformat_minor": 5
}
