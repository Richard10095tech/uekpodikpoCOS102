{
 "cells": [
  {
   "cell_type": "code",
   "execution_count": 9,
   "id": "c72c6516-a34a-41c0-b4d7-90848a3bea59",
   "metadata": {},
   "outputs": [
    {
     "name": "stdin",
     "output_type": "stream",
     "text": [
      "what is your name:  RICHARD\n",
      "what is your name:  FAVOUR\n",
      "how old are you:  20\n",
      "how old are you:  19\n"
     ]
    },
    {
     "name": "stdout",
     "output_type": "stream",
     "text": [
      "RICHARD is 20 for now\n",
      "FAVOUR is 19 for now\n",
      "RICHARD is now 19\n",
      "FAVOUR is now 20\n"
     ]
    }
   ],
   "source": [
    "# Swap or Switch the ages of two individuals\n",
    "name1 = input(\"what is your name: \")\n",
    "name2 = input(\"what is your name: \")\n",
    "\n",
    "age1 = input(\"how old are you: \")\n",
    "age2 = input(\"how old are you: \")\n",
    "\n",
    "print(f\"{name1} is {age1} for now\")\n",
    "print(f\"{name2} is {age2} for now\")\n",
    "\n",
    "# time to swap the ages\n",
    "print(f\"{name1} is now {age2}\")\n",
    "print(f\"{name2} is now {age1}\")\n",
    "\n"
   ]
  },
  {
   "cell_type": "code",
   "execution_count": null,
   "id": "7e3286d0-4f0d-405d-a229-138155db2aee",
   "metadata": {},
   "outputs": [],
   "source": []
  }
 ],
 "metadata": {
  "kernelspec": {
   "display_name": "Python [conda env:base] *",
   "language": "python",
   "name": "conda-base-py"
  },
  "language_info": {
   "codemirror_mode": {
    "name": "ipython",
    "version": 3
   },
   "file_extension": ".py",
   "mimetype": "text/x-python",
   "name": "python",
   "nbconvert_exporter": "python",
   "pygments_lexer": "ipython3",
   "version": "3.12.7"
  }
 },
 "nbformat": 4,
 "nbformat_minor": 5
}
